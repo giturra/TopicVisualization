{
 "cells": [
  {
   "cell_type": "code",
   "execution_count": 1,
   "id": "9cd671ef",
   "metadata": {},
   "outputs": [],
   "source": [
    "import numpy as np\n",
    "import pandas as pd\n",
    "import re\n",
    "\n",
    "from bs4 import BeautifulSoup"
   ]
  },
  {
   "cell_type": "code",
   "execution_count": 2,
   "id": "b2c59c28",
   "metadata": {},
   "outputs": [
    {
     "data": {
      "text/html": [
       "<div>\n",
       "<style scoped>\n",
       "    .dataframe tbody tr th:only-of-type {\n",
       "        vertical-align: middle;\n",
       "    }\n",
       "\n",
       "    .dataframe tbody tr th {\n",
       "        vertical-align: top;\n",
       "    }\n",
       "\n",
       "    .dataframe thead th {\n",
       "        text-align: right;\n",
       "    }\n",
       "</style>\n",
       "<table border=\"1\" class=\"dataframe\">\n",
       "  <thead>\n",
       "    <tr style=\"text-align: right;\">\n",
       "      <th></th>\n",
       "      <th>Id</th>\n",
       "      <th>Title</th>\n",
       "      <th>Body</th>\n",
       "      <th>Tags</th>\n",
       "      <th>CreationDate</th>\n",
       "      <th>Y</th>\n",
       "    </tr>\n",
       "  </thead>\n",
       "  <tbody>\n",
       "    <tr>\n",
       "      <th>0</th>\n",
       "      <td>34552656</td>\n",
       "      <td>Java: Repeat Task Every Random Seconds</td>\n",
       "      <td>&lt;p&gt;I'm already familiar with repeating tasks e...</td>\n",
       "      <td>&lt;java&gt;&lt;repeat&gt;</td>\n",
       "      <td>2016-01-01 00:21:59</td>\n",
       "      <td>LQ_CLOSE</td>\n",
       "    </tr>\n",
       "    <tr>\n",
       "      <th>1</th>\n",
       "      <td>34553034</td>\n",
       "      <td>Why are Java Optionals immutable?</td>\n",
       "      <td>&lt;p&gt;I'd like to understand why Java 8 Optionals...</td>\n",
       "      <td>&lt;java&gt;&lt;optional&gt;</td>\n",
       "      <td>2016-01-01 02:03:20</td>\n",
       "      <td>HQ</td>\n",
       "    </tr>\n",
       "    <tr>\n",
       "      <th>2</th>\n",
       "      <td>34553174</td>\n",
       "      <td>Text Overlay Image with Darkened Opacity React...</td>\n",
       "      <td>&lt;p&gt;I am attempting to overlay a title over an ...</td>\n",
       "      <td>&lt;javascript&gt;&lt;image&gt;&lt;overlay&gt;&lt;react-native&gt;&lt;opa...</td>\n",
       "      <td>2016-01-01 02:48:24</td>\n",
       "      <td>HQ</td>\n",
       "    </tr>\n",
       "    <tr>\n",
       "      <th>3</th>\n",
       "      <td>34553318</td>\n",
       "      <td>Why ternary operator in swift is so picky?</td>\n",
       "      <td>&lt;p&gt;The question is very simple, but I just cou...</td>\n",
       "      <td>&lt;swift&gt;&lt;operators&gt;&lt;whitespace&gt;&lt;ternary-operato...</td>\n",
       "      <td>2016-01-01 03:30:17</td>\n",
       "      <td>HQ</td>\n",
       "    </tr>\n",
       "    <tr>\n",
       "      <th>4</th>\n",
       "      <td>34553755</td>\n",
       "      <td>hide/show fab with scale animation</td>\n",
       "      <td>&lt;p&gt;I'm using custom floatingactionmenu. I need...</td>\n",
       "      <td>&lt;android&gt;&lt;material-design&gt;&lt;floating-action-but...</td>\n",
       "      <td>2016-01-01 05:21:48</td>\n",
       "      <td>HQ</td>\n",
       "    </tr>\n",
       "  </tbody>\n",
       "</table>\n",
       "</div>"
      ],
      "text/plain": [
       "         Id                                              Title  \\\n",
       "0  34552656             Java: Repeat Task Every Random Seconds   \n",
       "1  34553034                  Why are Java Optionals immutable?   \n",
       "2  34553174  Text Overlay Image with Darkened Opacity React...   \n",
       "3  34553318         Why ternary operator in swift is so picky?   \n",
       "4  34553755                 hide/show fab with scale animation   \n",
       "\n",
       "                                                Body  \\\n",
       "0  <p>I'm already familiar with repeating tasks e...   \n",
       "1  <p>I'd like to understand why Java 8 Optionals...   \n",
       "2  <p>I am attempting to overlay a title over an ...   \n",
       "3  <p>The question is very simple, but I just cou...   \n",
       "4  <p>I'm using custom floatingactionmenu. I need...   \n",
       "\n",
       "                                                Tags         CreationDate  \\\n",
       "0                                     <java><repeat>  2016-01-01 00:21:59   \n",
       "1                                   <java><optional>  2016-01-01 02:03:20   \n",
       "2  <javascript><image><overlay><react-native><opa...  2016-01-01 02:48:24   \n",
       "3  <swift><operators><whitespace><ternary-operato...  2016-01-01 03:30:17   \n",
       "4  <android><material-design><floating-action-but...  2016-01-01 05:21:48   \n",
       "\n",
       "          Y  \n",
       "0  LQ_CLOSE  \n",
       "1        HQ  \n",
       "2        HQ  \n",
       "3        HQ  \n",
       "4        HQ  "
      ]
     },
     "execution_count": 2,
     "metadata": {},
     "output_type": "execute_result"
    }
   ],
   "source": [
    "dataset = pd.read_csv('data/train.csv')\n",
    "dataset.head()"
   ]
  },
  {
   "cell_type": "code",
   "execution_count": 3,
   "id": "7a5bb8fb",
   "metadata": {},
   "outputs": [
    {
     "data": {
      "text/plain": [
       "'Java: Repeat Task Every Random Seconds'"
      ]
     },
     "execution_count": 3,
     "metadata": {},
     "output_type": "execute_result"
    }
   ],
   "source": [
    "dataset['Title'][0]"
   ]
  },
  {
   "cell_type": "code",
   "execution_count": 4,
   "id": "2272062f",
   "metadata": {},
   "outputs": [
    {
     "data": {
      "text/plain": [
       "'<p>I\\'m already familiar with repeating tasks every n seconds by using Java.util.Timer and Java.util.TimerTask. But lets say I want to print \"Hello World\" to the console every random seconds from 1-5. Unfortunately I\\'m in a bit of a rush and don\\'t have any code to show so far. Any help would be apriciated.  </p>\\n'"
      ]
     },
     "execution_count": 4,
     "metadata": {},
     "output_type": "execute_result"
    }
   ],
   "source": [
    "dataset['Body'][0]"
   ]
  },
  {
   "cell_type": "code",
   "execution_count": 5,
   "id": "32bb262c",
   "metadata": {},
   "outputs": [],
   "source": [
    "i = 0\n",
    "new_data = pd.DataFrame(columns=['Id', 'Title', 'Body', 'Tags', 'CreationDate', 'Y'])\n",
    "for index, row in dataset.iterrows():\n",
    "    #if (i == 15): break\n",
    "    body = BeautifulSoup(row['Body'], 'html.parser') #Getting rid of HTML\n",
    "    body = body.get_text() #Get in text form\n",
    "    body = body.replace('\\n',' ').lower() #Getting rid of new line characters and uppercase caracters\n",
    "    body = body.replace('-',' ').replace('\\'','').replace('\\\"','').replace(':','') #Getting rid of -, ' and \"\n",
    "    body = body.replace('(','').replace(')','').replace('.','').replace(',','').replace('?','').replace('!','')\n",
    "    body = re.sub('\\s+',' ', body) #Replacing more than one spaces by one space\n",
    "    tags = re.search('<(.*)>', row['Tags']).group(1).replace('><',' ') #Getting rid of the <>\n",
    "    element = {'Id': row['Id'], 'Title': row['Title'], 'Body': body, 'Tags': tags, \n",
    "               'CreationDate': row['CreationDate'], 'Y': row['Y']}\n",
    "    i += 1\n",
    "    new_data = new_data.append(element, ignore_index=True)"
   ]
  },
  {
   "cell_type": "code",
   "execution_count": 6,
   "id": "26c2b889",
   "metadata": {},
   "outputs": [
    {
     "name": "stdout",
     "output_type": "stream",
     "text": [
      "<p>I am new to Ubuntu (Linux tbh). I encountered problem with starting MongoDB service. I want to created web app using Ruby on Rails and MongoDB but mongo seems to fail to start.</p>\n",
      "\n",
      "<p>I followed this <a href=\"https://docs.mongodb.org/v3.0/tutorial/install-mongodb-on-ubuntu/\">MongoDB installation on Ubuntu</a> all of installation went without problems until I got to <code>sudo service mongod start</code> </p>\n",
      "\n",
      "<p><strong>mongod.log</strong></p>\n",
      "\n",
      "<pre><code>2016-01-01T10:58:15.545+0000 I CONTROL  ***** SERVER RESTARTED *****\n",
      "2016-01-01T10:58:15.548+0000 I CONTROL  [initandlisten] MongoDB starting : pid=3868 port=27017 dbpath=/var/lib/mongodb 64-bit host=damian-CX61-0NC-CX61-0ND-CX61-0NF-CX61-0NE\n",
      "2016-01-01T10:58:15.548+0000 I CONTROL  [initandlisten] db version v3.0.8\n",
      "2016-01-01T10:58:15.548+0000 I CONTROL  [initandlisten] git version: 83d8cc25e00e42856924d84e220fbe4a839e605d\n",
      "2016-01-01T10:58:15.548+0000 I CONTROL  [initandlisten] build info: Linux ip-10-187-89-126 3.13.0-24-generic \n",
      " \n",
      "i am new to ubuntu linux tbh i encountered problem with starting mongodb service i want to created web app using ruby on rails and mongodb but mongo seems to fail to start i followed this mongodb installation on ubuntu all of installation went without problems until i got to sudo service mongod start mongodlog 2016 01 01t105815545+0000 i control ***** server restarted ***** 2016 01 01t105815548+0000 i control [initandlisten] mongodb starting pid=3868 port=27017 dbpath=/var/lib/mongodb 64 bit host=damian cx61 0nc cx61 0nd cx61 0nf cx61 0ne 2016 01 01t105815548+0000 i control [initandlisten] db version v308 2016 01 01t105815548+0000 i control [initandlisten] git version 83d8cc25e00e42856924d84e220fbe4a839e605d 2016 01 01t105815548+0000 i control [initandlisten] build info linux ip 10 187 89 126 3130 24 generic #46 ubuntu smp thu apr 10 191108 utc 2014 x86_64 boost_lib_version=1_49 2016 01 01t105815548+0000 i control [initandlisten] allocator tcmalloc 2016 01 01t105815548+0000 i control [\n",
      " \n",
      "['i', 'am', 'new', 'to', 'ubuntu', 'linux', 'tbh', 'i', 'encountered', 'problem', 'with', 'starting', 'mongodb', 'service', 'i', 'want', 'to', 'created', 'web', 'app', 'using', 'ruby', 'on', 'rails', 'and', 'mongodb', 'but', 'mongo', 'seems', 'to', 'fail', 'to', 'start', 'i', 'followed', 'this', 'mongodb', 'installation', 'on', 'ubuntu', 'all', 'of', 'installation', 'went', 'without', 'problems', 'until', 'i', 'got', 'to', 'sudo', 'service', 'mongod', 'start', 'mongodlog', '2016', '01', '01t105815545+0000', 'i', 'control', '*****', 'server', 'restarted', '*****', '2016', '01', '01t105815548+0000', 'i', 'control', '[initandlisten]', 'mongodb', 'starting', 'pid=3868', 'port=27017', 'dbpath=/var/lib/mongodb', '64', 'bit', 'host=damian', 'cx61', '0nc', 'cx61', '0nd', 'cx61', '0nf', 'cx61', '0ne', '2016', '01', '01t105815548+0000', 'i', 'control', '[initandlisten]', 'db', 'version', 'v308', '2016', '01', '01t105815548+0000', 'i', 'control', '[initandlisten]', 'git', 'version', '83d8cc25e00e42856924d84e220fbe4a839e605d', '2016', '01', '01t105815548+0000', 'i', 'control', '[initandlisten]', 'build', 'info', 'linux', 'ip', '10', '187', '89', '126', '3130', '24', 'generic', '#46', 'ubuntu', 'smp', 'thu', 'apr', '10', '191108', 'utc', '2014', 'x86_64', 'boost_lib_version=1_49', '2016', '01', '01t105815548+0000', 'i', 'control', '[initandlisten]', 'allocator', 'tcmalloc', '2016', '01', '01t105815548+0000', 'i', 'control', '[initandlisten]', 'options', '{', 'config', '/etc/mongodconf', 'net', '{', 'bindip', '127001', 'port', '27017', '}', 'storage', '{', 'dbpath', '/var/lib/mongodb', 'journal', '{', 'enabled', 'true', '}', '}', 'systemlog', '{', 'destination', 'file', 'logappend', 'true', 'path', '/var/log/mongodb/mongodlog', '}', '}', '2016', '01', '01t105815567+0000', 'e', 'network', '[initandlisten]', 'failed', 'to', 'unlink', 'socket', 'file', '/tmp/mongodb', '27017sock', 'errno1', 'operation', 'not', 'permitted', '2016', '01', '01t105815567+0000', 'i', '[initandlisten]', 'fatal']\n"
     ]
    }
   ],
   "source": [
    "i = 10\n",
    "original = dataset['Body'][i]\n",
    "example = new_data['Body'][i]\n",
    "text = example.split()\n",
    "\n",
    "print(original[0:1000])\n",
    "print(' ')\n",
    "print(example[0:1000])\n",
    "print(' ')\n",
    "print(text[0:200])"
   ]
  },
  {
   "cell_type": "code",
   "execution_count": 7,
   "id": "309dbfc7",
   "metadata": {},
   "outputs": [],
   "source": [
    "new_data.to_csv('data/clean_train_data.csv')"
   ]
  }
 ],
 "metadata": {
  "kernelspec": {
   "display_name": "Python 3",
   "language": "python",
   "name": "python3"
  },
  "language_info": {
   "codemirror_mode": {
    "name": "ipython",
    "version": 3
   },
   "file_extension": ".py",
   "mimetype": "text/x-python",
   "name": "python",
   "nbconvert_exporter": "python",
   "pygments_lexer": "ipython3",
   "version": "3.7.10"
  }
 },
 "nbformat": 4,
 "nbformat_minor": 5
}
